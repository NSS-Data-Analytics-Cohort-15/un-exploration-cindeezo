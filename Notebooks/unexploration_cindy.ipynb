{
 "cells": [
  {
   "cell_type": "code",
   "execution_count": 1,
   "id": "25b6e55d-2842-45fc-8071-2540ef0cbcba",
   "metadata": {},
   "outputs": [],
   "source": [
    "import pandas as pd\n",
    "import numpy as np\n",
    "import matplotlib.pyplot as plt\n",
    "import seaborn as sns"
   ]
  },
  {
   "cell_type": "code",
   "execution_count": 2,
   "id": "08903daf-7cb2-48c7-89d2-d89d62eb75c6",
   "metadata": {},
   "outputs": [],
   "source": [
    "gdp_df=pd.read_csv('../data/gdp_percapita.csv')"
   ]
  },
  {
   "cell_type": "markdown",
   "id": "ed098da7-d632-4a55-bb6c-c5bf259a353b",
   "metadata": {},
   "source": [
    "## 5. How many rows and columns are in gdp_df? What are the data types of each column?"
   ]
  },
  {
   "cell_type": "code",
   "execution_count": 3,
   "id": "1f98eb37-084d-4a74-89c7-bb921c470ad4",
   "metadata": {},
   "outputs": [
    {
     "name": "stdout",
     "output_type": "stream",
     "text": [
      "<class 'pandas.core.frame.DataFrame'>\n",
      "RangeIndex: 8219 entries, 0 to 8218\n",
      "Data columns (total 4 columns):\n",
      " #   Column           Non-Null Count  Dtype  \n",
      "---  ------           --------------  -----  \n",
      " 0   Country or Area  8219 non-null   object \n",
      " 1   Year             8219 non-null   int64  \n",
      " 2   Value            8219 non-null   float64\n",
      " 3   Value Footnotes  0 non-null      float64\n",
      "dtypes: float64(2), int64(1), object(1)\n",
      "memory usage: 257.0+ KB\n"
     ]
    }
   ],
   "source": [
    "gdp_df.info()"
   ]
  },
  {
   "cell_type": "markdown",
   "id": "5e752f6d-4bff-4a4e-a9fd-5857fab30bca",
   "metadata": {},
   "source": [
    "Answer: 4 Columns and 8219 Rows"
   ]
  },
  {
   "cell_type": "markdown",
   "id": "7bad2f0d-2ecf-49f0-b989-48e8f979bcda",
   "metadata": {},
   "source": [
    "## 6.Drop the Value Footnotes column and rename the remaining three to 'Country', 'Year', and 'GDP_Per_Capita'."
   ]
  },
  {
   "cell_type": "code",
   "execution_count": 4,
   "id": "15c342d9-a9e8-4358-9793-d995b9b7b442",
   "metadata": {},
   "outputs": [],
   "source": [
    "gdp_df= gdp_df.drop(columns = ['Value Footnotes'])"
   ]
  },
  {
   "cell_type": "code",
   "execution_count": 5,
   "id": "d850dfaa-0dfb-491a-bc9b-bc04df598d37",
   "metadata": {},
   "outputs": [],
   "source": [
    "gdp_df=gdp_df.rename(columns = {\n",
    "    'Country or Area':'Country',\n",
    "    'Value':'gdp_per_capita'\n",
    "    })\n",
    "    "
   ]
  },
  {
   "cell_type": "code",
   "execution_count": 6,
   "id": "51be6884-844f-4d43-b1f1-5a5d58bcdf55",
   "metadata": {},
   "outputs": [
    {
     "data": {
      "text/html": [
       "<div>\n",
       "<style scoped>\n",
       "    .dataframe tbody tr th:only-of-type {\n",
       "        vertical-align: middle;\n",
       "    }\n",
       "\n",
       "    .dataframe tbody tr th {\n",
       "        vertical-align: top;\n",
       "    }\n",
       "\n",
       "    .dataframe thead th {\n",
       "        text-align: right;\n",
       "    }\n",
       "</style>\n",
       "<table border=\"1\" class=\"dataframe\">\n",
       "  <thead>\n",
       "    <tr style=\"text-align: right;\">\n",
       "      <th></th>\n",
       "      <th>Country</th>\n",
       "      <th>Year</th>\n",
       "      <th>gdp_per_capita</th>\n",
       "    </tr>\n",
       "  </thead>\n",
       "  <tbody>\n",
       "    <tr>\n",
       "      <th>0</th>\n",
       "      <td>Afghanistan</td>\n",
       "      <td>2023</td>\n",
       "      <td>1992.424394</td>\n",
       "    </tr>\n",
       "    <tr>\n",
       "      <th>1</th>\n",
       "      <td>Afghanistan</td>\n",
       "      <td>2022</td>\n",
       "      <td>1981.710168</td>\n",
       "    </tr>\n",
       "    <tr>\n",
       "      <th>2</th>\n",
       "      <td>Afghanistan</td>\n",
       "      <td>2021</td>\n",
       "      <td>2144.166570</td>\n",
       "    </tr>\n",
       "    <tr>\n",
       "      <th>3</th>\n",
       "      <td>Afghanistan</td>\n",
       "      <td>2020</td>\n",
       "      <td>2769.685745</td>\n",
       "    </tr>\n",
       "    <tr>\n",
       "      <th>4</th>\n",
       "      <td>Afghanistan</td>\n",
       "      <td>2019</td>\n",
       "      <td>2927.245144</td>\n",
       "    </tr>\n",
       "    <tr>\n",
       "      <th>...</th>\n",
       "      <td>...</td>\n",
       "      <td>...</td>\n",
       "      <td>...</td>\n",
       "    </tr>\n",
       "    <tr>\n",
       "      <th>8214</th>\n",
       "      <td>Zimbabwe</td>\n",
       "      <td>1994</td>\n",
       "      <td>3965.730986</td>\n",
       "    </tr>\n",
       "    <tr>\n",
       "      <th>8215</th>\n",
       "      <td>Zimbabwe</td>\n",
       "      <td>1993</td>\n",
       "      <td>3634.750494</td>\n",
       "    </tr>\n",
       "    <tr>\n",
       "      <th>8216</th>\n",
       "      <td>Zimbabwe</td>\n",
       "      <td>1992</td>\n",
       "      <td>3649.891947</td>\n",
       "    </tr>\n",
       "    <tr>\n",
       "      <th>8217</th>\n",
       "      <td>Zimbabwe</td>\n",
       "      <td>1991</td>\n",
       "      <td>4126.405247</td>\n",
       "    </tr>\n",
       "    <tr>\n",
       "      <th>8218</th>\n",
       "      <td>Zimbabwe</td>\n",
       "      <td>1990</td>\n",
       "      <td>4013.299059</td>\n",
       "    </tr>\n",
       "  </tbody>\n",
       "</table>\n",
       "<p>8219 rows × 3 columns</p>\n",
       "</div>"
      ],
      "text/plain": [
       "          Country  Year  gdp_per_capita\n",
       "0     Afghanistan  2023     1992.424394\n",
       "1     Afghanistan  2022     1981.710168\n",
       "2     Afghanistan  2021     2144.166570\n",
       "3     Afghanistan  2020     2769.685745\n",
       "4     Afghanistan  2019     2927.245144\n",
       "...           ...   ...             ...\n",
       "8214     Zimbabwe  1994     3965.730986\n",
       "8215     Zimbabwe  1993     3634.750494\n",
       "8216     Zimbabwe  1992     3649.891947\n",
       "8217     Zimbabwe  1991     4126.405247\n",
       "8218     Zimbabwe  1990     4013.299059\n",
       "\n",
       "[8219 rows x 3 columns]"
      ]
     },
     "execution_count": 6,
     "metadata": {},
     "output_type": "execute_result"
    }
   ],
   "source": [
    "gdp_df"
   ]
  },
  {
   "cell_type": "markdown",
   "id": "359ee093-bcf4-4c51-8ac3-dcb270849e53",
   "metadata": {},
   "source": [
    "## 7.How many countries have data for all years? Which countries are missing many years of data? Look at the number of observations per year. What do you notice?"
   ]
  },
  {
   "cell_type": "code",
   "execution_count": 7,
   "id": "8d73755e-e976-47c5-b3f8-82ab1ee5d626",
   "metadata": {},
   "outputs": [],
   "source": [
    "countries = gdp_df.groupby('Country')['Year'].count().reset_index()"
   ]
  },
  {
   "cell_type": "code",
   "execution_count": 8,
   "id": "e9d3561a-4a3a-4935-b98d-f96b37e50532",
   "metadata": {},
   "outputs": [
    {
     "data": {
      "text/plain": [
       "Country    Zimbabwe\n",
       "Year             34\n",
       "dtype: object"
      ]
     },
     "execution_count": 8,
     "metadata": {},
     "output_type": "execute_result"
    }
   ],
   "source": [
    "countries.max()"
   ]
  },
  {
   "cell_type": "code",
   "execution_count": 9,
   "id": "6c2ac675-3169-4246-a9ed-88d76461a3d7",
   "metadata": {},
   "outputs": [
    {
     "data": {
      "text/plain": [
       "Country    228\n",
       "Year       228\n",
       "dtype: int64"
      ]
     },
     "execution_count": 9,
     "metadata": {},
     "output_type": "execute_result"
    }
   ],
   "source": [
    "countries[countries['Year']==34].count()"
   ]
  },
  {
   "cell_type": "code",
   "execution_count": 10,
   "id": "7bb89b44-2617-4a1f-9950-ed70dd33b27a",
   "metadata": {},
   "outputs": [
    {
     "data": {
      "text/plain": [
       "Country    19\n",
       "Year       19\n",
       "dtype: int64"
      ]
     },
     "execution_count": 10,
     "metadata": {},
     "output_type": "execute_result"
    }
   ],
   "source": [
    "countries[countries['Year']<34].count()"
   ]
  },
  {
   "cell_type": "markdown",
   "id": "122ced9f-c051-431b-9acd-2192e3ca6565",
   "metadata": {},
   "source": [
    "## 8.In this question, you're going to create some plots to show the distribution of GDP per capita for the year 2020. Go to the Python Graph Gallery (https://www.python-graph-gallery.com/) and look at the different types of plots under the Distribution section. Create a histogram, a density plot, a boxplot, and a violin plot. What do you notice when you look at these plots? How do the plots compare and what information can you get out of one type that you can't necessarily get out of the others?"
   ]
  },
  {
   "cell_type": "code",
   "execution_count": 11,
   "id": "e31ded3a-f5ca-4472-b760-2892c0d53bd3",
   "metadata": {},
   "outputs": [],
   "source": [
    "gdp_2020 = gdp_df[gdp_df['Year']==2020]"
   ]
  },
  {
   "cell_type": "code",
   "execution_count": 12,
   "id": "71416327-f1cd-4bcc-8330-d07a275579c1",
   "metadata": {},
   "outputs": [
    {
     "data": {
      "text/plain": [
       "(array([111.,  59.,  23.,  23.,  15.,   9.,   3.,   0.,   3.,   1.]),\n",
       " array([   833.92025746,  13576.18426579,  26318.44827412,  39060.71228245,\n",
       "         51802.97629078,  64545.24029911,  77287.50430744,  90029.76831577,\n",
       "        102772.0323241 , 115514.29633243, 128256.56034076]),\n",
       " <BarContainer object of 10 artists>)"
      ]
     },
     "execution_count": 12,
     "metadata": {},
     "output_type": "execute_result"
    },
    {
     "data": {
      "image/png": "[encoded data removed]",
      "text/plain": [
       "<Figure size 640x480 with 1 Axes>"
      ]
     },
     "metadata": {},
     "output_type": "display_data"
    }
   ],
   "source": [
    "plt.hist(gdp_2020['gdp_per_capita'])"
   ]
  },
  {
   "cell_type": "code",
   "execution_count": 13,
   "id": "f47984d0-d8ba-47cf-ba22-51707ab8f26d",
   "metadata": {},
   "outputs": [
    {
     "data": {
      "text/plain": [
       "{'whiskers': [<matplotlib.lines.Line2D at 0x152839f0550>,\n",
       "  <matplotlib.lines.Line2D at 0x152839f0690>],\n",
       " 'caps': [<matplotlib.lines.Line2D at 0x152839f07d0>,\n",
       "  <matplotlib.lines.Line2D at 0x152839f0910>],\n",
       " 'boxes': [<matplotlib.lines.Line2D at 0x152839f0410>],\n",
       " 'medians': [<matplotlib.lines.Line2D at 0x152839f0a50>],\n",
       " 'fliers': [<matplotlib.lines.Line2D at 0x152839f0b90>],\n",
       " 'means': []}"
      ]
     },
     "execution_count": 13,
     "metadata": {},
     "output_type": "execute_result"
    },
    {
     "data": {
      "image/png": "[encoded data removed]",
      "text/plain": [
       "<Figure size 640x480 with 1 Axes>"
      ]
     },
     "metadata": {},
     "output_type": "display_data"
    }
   ],
   "source": [
    "plt.boxplot(gdp_2020['gdp_per_capita'])"
   ]
  },
  {
   "cell_type": "code",
   "execution_count": 14,
   "id": "b7b9f77b-fb48-482f-8cd9-5da2b1920501",
   "metadata": {},
   "outputs": [
    {
     "data": {
      "text/plain": [
       "{'bodies': [<matplotlib.collections.FillBetweenPolyCollection at 0x152831306e0>],\n",
       " 'cmaxes': <matplotlib.collections.LineCollection at 0x15283131400>,\n",
       " 'cmins': <matplotlib.collections.LineCollection at 0x15283a5c690>,\n",
       " 'cbars': <matplotlib.collections.LineCollection at 0x15283a5ca50>}"
      ]
     },
     "execution_count": 14,
     "metadata": {},
     "output_type": "execute_result"
    },
    {
     "data": {
      "image/png": "[encoded data removed]",
      "text/plain": [
       "<Figure size 640x480 with 1 Axes>"
      ]
     },
     "metadata": {},
     "output_type": "display_data"
    }
   ],
   "source": [
    "plt.violinplot(gdp_2020['gdp_per_capita'])"
   ]
  },
  {
   "cell_type": "code",
   "execution_count": 15,
   "id": "e7f078d1-b359-46b9-a6b3-ed43f2a0abff",
   "metadata": {},
   "outputs": [
    {
     "data": {
      "text/plain": [
       "<Axes: xlabel='gdp_per_capita', ylabel='Density'>"
      ]
     },
     "execution_count": 15,
     "metadata": {},
     "output_type": "execute_result"
    },
    {
     "data": {
      "image/png": "[encoded data removed]",
      "text/plain": [
       "<Figure size 640x480 with 1 Axes>"
      ]
     },
     "metadata": {},
     "output_type": "display_data"
    }
   ],
   "source": [
    "sns.kdeplot(gdp_2020['gdp_per_capita'])"
   ]
  },
  {
   "cell_type": "markdown",
   "id": "8c5a288a-9510-4afa-b434-98ba72d52a7d",
   "metadata": {},
   "source": [
    "## 9. What was the median GDP per capita value in 2020?"
   ]
  },
  {
   "cell_type": "code",
   "execution_count": 16,
   "id": "10e5321e-c386-4925-8897-a7069432202d",
   "metadata": {},
   "outputs": [
    {
     "data": {
      "text/plain": [
       "15309.23598817024"
      ]
     },
     "execution_count": 16,
     "metadata": {},
     "output_type": "execute_result"
    }
   ],
   "source": [
    "gdp_2020['gdp_per_capita'].median()"
   ]
  },
  {
   "cell_type": "markdown",
   "id": "36f10c51-daed-4bfc-a960-90f8eedc13c2",
   "metadata": {},
   "source": [
    "## 10. For this question, you're going to create some visualizations to compare GDP per capita values for the years 1990, 2000, 2010, and 2020. Start by subsetting your data to just these 4 years into a new DataFrame named gdp_decades. Using this, create the following 4 plots:"
   ]
  },
  {
   "cell_type": "markdown",
   "id": "3553d704-1337-4a9b-aba5-79f151502aaf",
   "metadata": {},
   "source": [
    "## A boxplot\n",
    "## A barplot (check out the Barplot with Seaborn section: https://www.python-graph-gallery.com/barplot/#Seaborn)\n",
    "## A scatterplot\n",
    "## A scatterplot with a trend line overlaid (see this regplot example: https://www.python-graph-gallery.com/42-custom-linear-regression-fit-seaborn)\n",
    "## Comment on what you observe has happened to GDP values over time and the relative strengths and weaknesses of each type of plot."
   ]
  },
  {
   "cell_type": "code",
   "execution_count": 17,
   "id": "c462e14c-0740-4029-be7f-d456d0b9d0c8",
   "metadata": {},
   "outputs": [],
   "source": [
    "gdp_decades = gdp_df[gdp_df['Year'].isin([1970, 1980, 1990, 2000, 2010, 2020])]"
   ]
  },
  {
   "cell_type": "code",
   "execution_count": 19,
   "id": "702e4ad2-7551-427e-b153-0af37b6d3f52",
   "metadata": {},
   "outputs": [
    {
     "data": {
      "text/plain": [
       "<Axes: xlabel='Year', ylabel='gdp_per_capita'>"
      ]
     },
     "execution_count": 19,
     "metadata": {},
     "output_type": "execute_result"
    },
    {
     "data": {
      "image/png": "[encoded data removed]",
      "text/plain": [
       "<Figure size 640x480 with 1 Axes>"
      ]
     },
     "metadata": {},
     "output_type": "display_data"
    }
   ],
   "source": [
    "sns.boxplot(x = gdp_decades['Year'], y = gdp_decades['gdp_per_capita'])"
   ]
  },
  {
   "cell_type": "code",
   "execution_count": 21,
   "id": "fe006f00-8f98-40e1-8d5f-36d691f5b518",
   "metadata": {},
   "outputs": [
    {
     "data": {
      "text/plain": [
       "<Axes: xlabel='Year', ylabel='gdp_per_capita'>"
      ]
     },
     "execution_count": 21,
     "metadata": {},
     "output_type": "execute_result"
    },
    {
     "data": {
      "image/png": "[encoded data removed]",
      "text/plain": [
       "<Figure size 640x480 with 1 Axes>"
      ]
     },
     "metadata": {},
     "output_type": "display_data"
    }
   ],
   "source": [
    "sns.barplot(x = gdp_decades['Year'],\n",
    "        y = gdp_decades['gdp_per_capita'])"
   ]
  },
  {
   "cell_type": "markdown",
   "id": "2ba07776-4c51-4e4a-809a-da55ca73b56d",
   "metadata": {},
   "source": [
    "## 11. Which country was the first to have a GDP per capita greater than $100,000"
   ]
  },
  {
   "cell_type": "code",
   "execution_count": null,
   "id": "daeec460-0a3e-47d5-b4c5-345b490e35dd",
   "metadata": {},
   "outputs": [],
   "source": [
    "high_gdp = gdp_df[gdp_df['gdp_per_capita'] > 100000].sort_values(by = 'Year', ascending = True)"
   ]
  },
  {
   "cell_type": "markdown",
   "id": "d62db97e-7d15-4134-af0e-8c105913741c",
   "metadata": {},
   "source": [
    "## 12. Which country had the highest GDP per capita in 2020? Create a plot showing how this country's GDP per capita has changed over the timespan of the dataset."
   ]
  },
  {
   "cell_type": "code",
   "execution_count": null,
   "id": "11958e2a-8c27-439f-af0e-8528022401cb",
   "metadata": {},
   "outputs": [],
   "source": [
    "gdp_high_2020 = gdp_2020.sort_values(by = 'gdp_per_capita', ascending = False)"
   ]
  },
  {
   "cell_type": "markdown",
   "id": "dbfa62c7-acea-40b3-b845-e96c26507b64",
   "metadata": {},
   "source": [
    "## 13. Which country had the lowest GDP per capita in 2020? Create a plot showing how this country's GDP per capita has changed over the timespan of the dataset. Bonus question: Is it true in general that coutries had a higher GDP per capita in 2020 than in 1990? Which countries had lower GDP per capita in 2020 than in 1990?"
   ]
  },
  {
   "cell_type": "code",
   "execution_count": null,
   "id": "26573041-3010-4468-9558-32a14acd3ee6",
   "metadata": {},
   "outputs": [],
   "source": [
    "gdp_low_2020 = gdp_2020.sort_values(by = 'gdp_per_capita', ascending = True)"
   ]
  },
  {
   "cell_type": "code",
   "execution_count": null,
   "id": "00e4a3d7-1138-4509-bd59-3d4058e32680",
   "metadata": {},
   "outputs": [],
   "source": [
    "gdp_low_2020.head()"
   ]
  },
  {
   "cell_type": "markdown",
   "id": "2377b059-4b8f-42a2-8496-cca99a988ab4",
   "metadata": {},
   "source": [
    "## 14. Read in the internet use dataset into a DataFrame named internet_df. You will likely get errors when doing this. Check the arguments for the read_csv function to find ones that can help correct the errors (https://pandas.pydata.org/docs/reference/api/pandas.read_csv.html) Once you are able to read it in, take per a look at the top and bottom few rows to make sure that it has been read in correctly. Also, check the datatypes of the columns."
   ]
  },
  {
   "cell_type": "code",
   "execution_count": null,
   "id": "66f0e9d0-83d4-411d-a254-bc9de1244989",
   "metadata": {},
   "outputs": [],
   "source": [
    "internet_df= pd.read_csv('../data/internet_use.csv',on_bad_lines ='skip', skipfooter=299)"
   ]
  },
  {
   "cell_type": "markdown",
   "id": "49c4f79e-166f-4df0-bbdb-67c627563c90",
   "metadata": {},
   "source": [
    "## 15. Drop the Value Footnotes column and rename the remaining three to 'Country', 'Year', and 'Internet_Users_Pct'."
   ]
  },
  {
   "cell_type": "code",
   "execution_count": null,
   "id": "61a3215f-d046-4f08-b924-ba041b78db36",
   "metadata": {},
   "outputs": [],
   "source": [
    "internet_df"
   ]
  },
  {
   "cell_type": "code",
   "execution_count": null,
   "id": "49013777-71b2-4371-9ff7-e85ac47ceccb",
   "metadata": {},
   "outputs": [],
   "source": [
    "internet_df= internet_df.drop(columns = ['Value Footnotes'])"
   ]
  },
  {
   "cell_type": "code",
   "execution_count": null,
   "id": "8e01121b-febe-4016-ac6b-12969baeea99",
   "metadata": {},
   "outputs": [],
   "source": [
    "internet_df=internet_df.rename(columns = {\n",
    "    'Country or Area':'Country',\n",
    "    'Value':'Internet_Users_Pct'\n",
    "    })"
   ]
  },
  {
   "cell_type": "code",
   "execution_count": null,
   "id": "16ae8709-a567-4cbd-8ee3-1e10d13ea71c",
   "metadata": {},
   "outputs": [],
   "source": [
    "internet_df"
   ]
  },
  {
   "cell_type": "markdown",
   "id": "40d5c7de-d822-4fbc-a6cb-6db159068ced",
   "metadata": {},
   "source": [
    "## 16. Look at the number of observations in this dataset per year. What do you notice?"
   ]
  },
  {
   "cell_type": "code",
   "execution_count": null,
   "id": "1c8c2d8f-38d9-40de-b45c-109bff529b5a",
   "metadata": {},
   "outputs": [],
   "source": []
  },
  {
   "cell_type": "markdown",
   "id": "b6aa0d9c-3391-49c2-b468-8365378cc76f",
   "metadata": {},
   "source": [
    "## 17. What is the first year to have a non-zero internet users percentage value?"
   ]
  },
  {
   "cell_type": "code",
   "execution_count": null,
   "id": "11af2bb7-b99b-48b3-96df-138be14b730f",
   "metadata": {},
   "outputs": [],
   "source": [
    "internet_df[internet_df['Internet_Users_Pct'] > 0].sort_values(by = 'Year', ascending = True)"
   ]
  },
  {
   "cell_type": "markdown",
   "id": "d373e1f2-e658-4481-b800-b03977f14486",
   "metadata": {},
   "source": [
    "Year: 1990"
   ]
  },
  {
   "cell_type": "markdown",
   "id": "2458225a-eac1-4c05-9563-55ac0436e850",
   "metadata": {},
   "source": [
    "## 18. How does the distribution of internet users percent differ for 2000 and 2014?"
   ]
  },
  {
   "cell_type": "code",
   "execution_count": null,
   "id": "0f923a21-8f9f-46e8-9311-14491c2daeed",
   "metadata": {},
   "outputs": [],
   "source": []
  }
 ],
 "metadata": {
  "kernelspec": {
   "display_name": "Python [conda env:base] *",
   "language": "python",
   "name": "conda-base-py"
  },
  "language_info": {
   "codemirror_mode": {
    "name": "ipython",
    "version": 3
   },
   "file_extension": ".py",
   "mimetype": "text/x-python",
   "name": "python",
   "nbconvert_exporter": "python",
   "pygments_lexer": "ipython3",
   "version": "3.13.5"
  }
 },
 "nbformat": 4,
 "nbformat_minor": 5
}
